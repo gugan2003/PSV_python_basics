{
 "cells": [
  {
   "cell_type": "code",
   "execution_count": 14,
   "metadata": {},
   "outputs": [
    {
     "name": "stdout",
     "output_type": "stream",
     "text": [
      "Hello world\n"
     ]
    }
   ],
   "source": [
    "print(\"Hello world\")"
   ]
  },
  {
   "cell_type": "markdown",
   "metadata": {},
   "source": [
    "Advanced python topics.\n",
    "\n",
    "    Class\n",
    "\n",
    "    OOPS - concept\n",
    "\n",
    "    Classes and obejcts. - Obejct creation, retrivial, update and delete an object.\n",
    "\n",
    "    Polymorphism.\n",
    "\n",
    "    Inheritance.\n",
    "\n",
    "    Encaptulation.\n",
    "\n",
    "    Abstraction.\n",
    "    \n",
    "    Lamda.\n"
   ]
  },
  {
   "cell_type": "markdown",
   "metadata": {},
   "source": [
    "# Lamda  Function\n",
    "# lambda arguments : expression"
   ]
  },
  {
   "cell_type": "code",
   "execution_count": 15,
   "metadata": {},
   "outputs": [
    {
     "name": "stdout",
     "output_type": "stream",
     "text": [
      "15\n"
     ]
    }
   ],
   "source": [
    "x = lambda a, b : a + b\n",
    "print(x(5, 10)) "
   ]
  },
  {
   "cell_type": "code",
   "execution_count": 16,
   "metadata": {},
   "outputs": [
    {
     "name": "stdout",
     "output_type": "stream",
     "text": [
      "9\n",
      "29\n"
     ]
    }
   ],
   "source": [
    "x = lambda a = 14, b = 15 : a + b\n",
    "print(x(5,4))\n",
    "print(x())"
   ]
  },
  {
   "cell_type": "markdown",
   "metadata": {},
   "source": [
    "A simple Class and object creation"
   ]
  },
  {
   "cell_type": "code",
   "execution_count": 17,
   "metadata": {},
   "outputs": [],
   "source": [
    "class Human():\n",
    "    name = 'raju'"
   ]
  },
  {
   "cell_type": "code",
   "execution_count": 18,
   "metadata": {},
   "outputs": [
    {
     "name": "stdout",
     "output_type": "stream",
     "text": [
      "<__main__.Human object at 0x00000237B3F4A990> <class '__main__.Human'>\n",
      "raju <class 'str'>\n"
     ]
    }
   ],
   "source": [
    "h1 = Human()\n",
    "print(h1, type(h1))\n",
    "print(h1.name, type(h1.name))"
   ]
  },
  {
   "cell_type": "code",
   "execution_count": 19,
   "metadata": {},
   "outputs": [],
   "source": [
    "#The __init__() Function, constructor\n",
    "\n",
    "class Human():\n",
    "    def __init__(self, name, age, sex):\n",
    "        self.name = name\n",
    "        self.age = age\n",
    "        self.sex = sex\n",
    "    def __str__(self):\n",
    "        return self.name"
   ]
  },
  {
   "cell_type": "code",
   "execution_count": 20,
   "metadata": {},
   "outputs": [
    {
     "name": "stdout",
     "output_type": "stream",
     "text": [
      "Kavin <class '__main__.Human'>\n",
      "Kavin <class 'str'>\n",
      "34 <class 'int'>\n",
      "Male <class 'str'>\n"
     ]
    }
   ],
   "source": [
    "h1 = Human(name='Kavin', age=34, sex='Male') # object initialisation\n",
    "print(h1, type(h1))\n",
    "print(h1.name, type(h1.name))\n",
    "print(h1.age, type(h1.age))\n",
    "print(h1.sex, type(h1.sex))"
   ]
  },
  {
   "cell_type": "code",
   "execution_count": 21,
   "metadata": {},
   "outputs": [],
   "source": [
    "    def greet():\n",
    "        print('hai I am ', self.name)"
   ]
  },
  {
   "cell_type": "code",
   "execution_count": 22,
   "metadata": {},
   "outputs": [
    {
     "ename": "AttributeError",
     "evalue": "'Human' object has no attribute 'greet'",
     "output_type": "error",
     "traceback": [
      "\u001b[1;31m---------------------------------------------------------------------------\u001b[0m",
      "\u001b[1;31mAttributeError\u001b[0m                            Traceback (most recent call last)",
      "\u001b[1;32mc:\\Users\\psv102\\Desktop\\psv\\Python_advanced.ipynb Cell 12\u001b[0m line \u001b[0;36m1\n\u001b[1;32m----> <a href='vscode-notebook-cell:/c%3A/Users/psv102/Desktop/psv/Python_advanced.ipynb#X14sZmlsZQ%3D%3D?line=0'>1</a>\u001b[0m h1\u001b[39m.\u001b[39;49mgreet()\n",
      "\u001b[1;31mAttributeError\u001b[0m: 'Human' object has no attribute 'greet'"
     ]
    }
   ],
   "source": [
    "h1.greet()"
   ]
  },
  {
   "cell_type": "code",
   "execution_count": null,
   "metadata": {},
   "outputs": [],
   "source": [
    "class Human():\n",
    "    def __init__(self, name = 'Kavin', age = 35, sex = 'Male'):\n",
    "        self.name = name\n",
    "        self.age = age\n",
    "        self.sex = sex\n",
    "    def __str__(self):\n",
    "        return self.name\n",
    "    def greet(self):\n",
    "        print('hai I am ', self.name,'and i am ',self.age, 'old. Please welcome to my home.')"
   ]
  },
  {
   "cell_type": "code",
   "execution_count": null,
   "metadata": {},
   "outputs": [],
   "source": [
    "h1 = Human(name='raju', age=45, sex=\"male\")"
   ]
  },
  {
   "cell_type": "code",
   "execution_count": null,
   "metadata": {},
   "outputs": [
    {
     "ename": "NameError",
     "evalue": "name 'h1' is not defined",
     "output_type": "error",
     "traceback": [
      "\u001b[1;31m---------------------------------------------------------------------------\u001b[0m",
      "\u001b[1;31mNameError\u001b[0m                                 Traceback (most recent call last)",
      "\u001b[1;32mc:\\Users\\psv102\\Desktop\\psv\\Python_advanced.ipynb Cell 15\u001b[0m line \u001b[0;36m1\n\u001b[1;32m----> <a href='vscode-notebook-cell:/c%3A/Users/psv102/Desktop/psv/Python_advanced.ipynb#X20sZmlsZQ%3D%3D?line=0'>1</a>\u001b[0m h1\u001b[39m.\u001b[39mgreet()\n",
      "\u001b[1;31mNameError\u001b[0m: name 'h1' is not defined"
     ]
    }
   ],
   "source": [
    "h1.greet()"
   ]
  },
  {
   "cell_type": "markdown",
   "metadata": {},
   "source": [
    "# Modifying Object parameters."
   ]
  },
  {
   "cell_type": "code",
   "execution_count": null,
   "metadata": {},
   "outputs": [
    {
     "ename": "NameError",
     "evalue": "name 'h1' is not defined",
     "output_type": "error",
     "traceback": [
      "\u001b[1;31m---------------------------------------------------------------------------\u001b[0m",
      "\u001b[1;31mNameError\u001b[0m                                 Traceback (most recent call last)",
      "\u001b[1;32mc:\\Users\\psv102\\Desktop\\psv\\Python_advanced.ipynb Cell 17\u001b[0m line \u001b[0;36m1\n\u001b[1;32m----> <a href='vscode-notebook-cell:/c%3A/Users/psv102/Desktop/psv/Python_advanced.ipynb#X22sZmlsZQ%3D%3D?line=0'>1</a>\u001b[0m h1\u001b[39m.\u001b[39mage \u001b[39m=\u001b[39m \u001b[39m20\u001b[39m\n\u001b[0;32m      <a href='vscode-notebook-cell:/c%3A/Users/psv102/Desktop/psv/Python_advanced.ipynb#X22sZmlsZQ%3D%3D?line=1'>2</a>\u001b[0m h1\u001b[39m.\u001b[39mgreet()\n",
      "\u001b[1;31mNameError\u001b[0m: name 'h1' is not defined"
     ]
    }
   ],
   "source": [
    "h1.age = 20\n",
    "h1.greet()"
   ]
  },
  {
   "cell_type": "markdown",
   "metadata": {},
   "source": [
    "# Delete Object Properties"
   ]
  },
  {
   "cell_type": "code",
   "execution_count": null,
   "metadata": {},
   "outputs": [],
   "source": [
    "print(h1.age)\n"
   ]
  },
  {
   "cell_type": "code",
   "execution_count": null,
   "metadata": {},
   "outputs": [],
   "source": [
    "del h1.age"
   ]
  },
  {
   "cell_type": "code",
   "execution_count": null,
   "metadata": {},
   "outputs": [],
   "source": [
    "print(h1.name, h1.sex)\n",
    "print(h1.age)"
   ]
  },
  {
   "cell_type": "code",
   "execution_count": null,
   "metadata": {},
   "outputs": [],
   "source": [
    "class Student(Human):\n",
    "    pass"
   ]
  },
  {
   "cell_type": "markdown",
   "metadata": {},
   "source": [
    "# Inheritance"
   ]
  },
  {
   "cell_type": "markdown",
   "metadata": {},
   "source": [
    "Parent class\n",
    "\n",
    "Child class\n",
    "\n",
    "    Parent - Human\n",
    "    child - Student"
   ]
  },
  {
   "cell_type": "markdown",
   "metadata": {},
   "source": [
    "# Parent Class"
   ]
  },
  {
   "cell_type": "code",
   "execution_count": null,
   "metadata": {},
   "outputs": [],
   "source": [
    "class Human():\n",
    "    def __init__(self, name = 'Kavin', age = 35, sex = 'Male'):\n",
    "        self.name = name\n",
    "        self.age = age\n",
    "        self.sex = sex\n",
    "    def __str__(self):\n",
    "        return self.name\n",
    "    def greet(self):\n",
    "        print('hai I am ', self.name,'and i am ',self.age, 'old. Please welcome to my home.')"
   ]
  },
  {
   "cell_type": "markdown",
   "metadata": {},
   "source": [
    "# Child Class"
   ]
  },
  {
   "cell_type": "code",
   "execution_count": null,
   "metadata": {},
   "outputs": [],
   "source": [
    "class Student(Human):\n",
    "    pass"
   ]
  },
  {
   "cell_type": "code",
   "execution_count": null,
   "metadata": {},
   "outputs": [],
   "source": [
    "s1 = Student(name='raju', age=15, sex='male')"
   ]
  },
  {
   "cell_type": "code",
   "execution_count": null,
   "metadata": {},
   "outputs": [],
   "source": [
    "s1.greet()"
   ]
  },
  {
   "cell_type": "markdown",
   "metadata": {},
   "source": [
    "initialising Student class"
   ]
  },
  {
   "cell_type": "code",
   "execution_count": null,
   "metadata": {},
   "outputs": [],
   "source": [
    "class Student(Human):\n",
    "    def __init__(self, name, age, sex, department, college):\n",
    "        super().__init__(name, age, sex)\n",
    "        self.department = department\n",
    "        self.college = college\n",
    "\n",
    "    def intro(self):\n",
    "        print(\"I am\", self.name, \"and I am studying in\", self.college, \"in the\", self.department, \"department.\")\n",
    "\n"
   ]
  },
  {
   "cell_type": "code",
   "execution_count": null,
   "metadata": {},
   "outputs": [],
   "source": [
    "# Example usage:\n",
    "s1 = Student(name=\"Rahul\", age=20, sex=\"Male\", department=\"Manufacturing Technology\", college=\"PsV\")\n"
   ]
  },
  {
   "cell_type": "code",
   "execution_count": null,
   "metadata": {},
   "outputs": [],
   "source": [
    "s1.greet()  # Calls the greet method inherited from the Human class\n"
   ]
  },
  {
   "cell_type": "code",
   "execution_count": null,
   "metadata": {},
   "outputs": [],
   "source": [
    "s1.intro()  # Calls the intro method specific to the Student class"
   ]
  },
  {
   "cell_type": "markdown",
   "metadata": {},
   "source": [
    "Using the super() function."
   ]
  },
  {
   "cell_type": "code",
   "execution_count": null,
   "metadata": {},
   "outputs": [],
   "source": [
    "class Student(Human):\n",
    "    def __init__(self, name, age, sex, department, college):\n",
    "        super().__init__(name, age, sex)  # Call the parent class constructor\n",
    "        self.department = department\n",
    "        self.college = college\n",
    "\n",
    "    def intro(self):\n",
    "        print(\"I am\", self.name, \"and I am studying in\", self.college, \"in the\", self.department, \"department.\")"
   ]
  },
  {
   "cell_type": "code",
   "execution_count": null,
   "metadata": {},
   "outputs": [],
   "source": [
    "# Example usage:\n",
    "s1 = Student(name=\"Alice\", age=20, sex=\"Female\", department=\"Manufacturing Technology\", college=\"PSV\")\n"
   ]
  },
  {
   "cell_type": "code",
   "execution_count": null,
   "metadata": {},
   "outputs": [],
   "source": [
    "s1.greet()  # Calls the greet method inherited from the Human class\n"
   ]
  },
  {
   "cell_type": "code",
   "execution_count": null,
   "metadata": {},
   "outputs": [],
   "source": [
    "s1.intro()  # Calls the intro method specific to the Student class\n"
   ]
  },
  {
   "cell_type": "markdown",
   "metadata": {},
   "source": [
    "Encapsulation is one of the fundamental principles of object-oriented programming (OOP) and is often described as one of the pillars of OOP, along with inheritance and polymorphism. It refers to the concept of bundling data (attributes or properties) and methods (functions or procedures) that operate on that data into a single unit known as a class. This unit, called an object, restricts direct access to some of its components and hides the internal state of the object from the outside.\n",
    "\n",
    "Here are the key aspects of encapsulation:\n",
    "\n",
    "    Data Hiding: Encapsulation hides the internal state (attributes) of an object from external access. In most programming languages, you achieve this by marking attributes as private or protected, preventing direct access from outside the class.\n",
    "\n",
    "    Access Control: Encapsulation allows you to define controlled points of access to the internal data through public methods (getters and setters). These methods provide a controlled way to read and modify the internal state, ensuring data integrity and consistency.\n",
    "\n",
    "    Information Hiding: By encapsulating data and providing controlled access, you can change the internal implementation of a class without affecting the code that uses the class. This concept is known as information hiding and is crucial for maintaining and evolving large codebases.\n",
    "\n",
    "    Modularity: Encapsulation promotes modularity in your code by organizing related data and functions into discrete units (classes). This makes it easier to manage and understand complex systems.\n",
    "\n",
    "    Security: Encapsulation can help improve security by preventing unauthorized access to sensitive data or operations. Access to internal state and functionality is controlled by the class, reducing the risk of unintended data modification."
   ]
  },
  {
   "cell_type": "code",
   "execution_count": null,
   "metadata": {},
   "outputs": [],
   "source": [
    "class Human:\n",
    "    def __init__(self, name='Kavin', age=35, sex='Male'):\n",
    "        self.__name = name  # Private attribute\n",
    "        self.__age = age    # Private attribute\n",
    "        self.__sex = sex    # Private attribute\n",
    "\n",
    "    # Getter methods\n",
    "    def get_name(self):\n",
    "        return self.__name\n",
    "\n",
    "    def get_age(self):\n",
    "        return self.__age\n",
    "\n",
    "    def get_sex(self):\n",
    "        return self.__sex\n",
    "\n",
    "    def greet(self):\n",
    "        print(f\"Hello, I am {self.__name}, and I am {self.__age} years old. Welcome to my home.\")\n",
    "\n",
    "class Student(Human):\n",
    "    def __init__(self, name, age, sex, department, college):\n",
    "        super().__init__(name, age, sex)\n",
    "        self.__department = department  # Private attribute\n",
    "        self.__college = college        # Private attribute\n",
    "\n",
    "    # Getter methods specific to Student\n",
    "    def get_department(self):\n",
    "        return self.__department\n",
    "\n",
    "    def get_college(self):\n",
    "        return self.__college\n",
    "\n",
    "    def intro(self):\n",
    "        print(f\"I am {self.get_name()}, studying in {self.__college}, in the {self.__department} department.\")\n",
    "    \n",
    "    def get_student_info(self):\n",
    "        return f\"Name: {self.get_name()}\\nAge: {self.get_age()}\\nSex: {self.get_sex()}\\nDepartment: {self.__department}\\nCollege: {self.__college}\"\n",
    "\n"
   ]
  },
  {
   "cell_type": "code",
   "execution_count": null,
   "metadata": {},
   "outputs": [],
   "source": [
    "# Example usage:\n",
    "s1 = Student(name=\"Alice\", age=20, sex=\"Female\", department=\"Manufacturing Technology\", college=\"PSV University\")"
   ]
  },
  {
   "cell_type": "code",
   "execution_count": null,
   "metadata": {},
   "outputs": [],
   "source": [
    "# Accessing attributes through getter methods\n",
    "print(\"Name:\", s1.get_name())\n",
    "print(\"Age:\", s1.get_age())\n",
    "print(\"Sex:\", s1.get_sex())\n",
    "print(\"Department:\", s1.get_department())\n",
    "print(\"College:\", s1.get_college())"
   ]
  },
  {
   "cell_type": "code",
   "execution_count": null,
   "metadata": {},
   "outputs": [],
   "source": [
    "# Calling methods\n",
    "s1.greet()"
   ]
  },
  {
   "cell_type": "code",
   "execution_count": null,
   "metadata": {},
   "outputs": [],
   "source": [
    "s1.intro()\n"
   ]
  },
  {
   "cell_type": "code",
   "execution_count": 1,
   "metadata": {},
   "outputs": [
    {
     "name": "stdout",
     "output_type": "stream",
     "text": [
      "\n",
      "Student Information:\n"
     ]
    },
    {
     "ename": "NameError",
     "evalue": "name 's1' is not defined",
     "output_type": "error",
     "traceback": [
      "\u001b[1;31m---------------------------------------------------------------------------\u001b[0m",
      "\u001b[1;31mNameError\u001b[0m                                 Traceback (most recent call last)",
      "\u001b[1;32mc:\\Users\\psv102\\Desktop\\psv\\Python_advanced.ipynb Cell 47\u001b[0m line \u001b[0;36m3\n\u001b[0;32m      <a href='vscode-notebook-cell:/c%3A/Users/psv102/Desktop/psv/Python_advanced.ipynb#X64sZmlsZQ%3D%3D?line=0'>1</a>\u001b[0m \u001b[39m# Get total student information\u001b[39;00m\n\u001b[0;32m      <a href='vscode-notebook-cell:/c%3A/Users/psv102/Desktop/psv/Python_advanced.ipynb#X64sZmlsZQ%3D%3D?line=1'>2</a>\u001b[0m \u001b[39mprint\u001b[39m(\u001b[39m\"\u001b[39m\u001b[39m\\n\u001b[39;00m\u001b[39mStudent Information:\u001b[39m\u001b[39m\"\u001b[39m)\n\u001b[1;32m----> <a href='vscode-notebook-cell:/c%3A/Users/psv102/Desktop/psv/Python_advanced.ipynb#X64sZmlsZQ%3D%3D?line=2'>3</a>\u001b[0m \u001b[39mprint\u001b[39m(s1\u001b[39m.\u001b[39mget_student_info())\n",
      "\u001b[1;31mNameError\u001b[0m: name 's1' is not defined"
     ]
    }
   ],
   "source": [
    "# Get total student information\n",
    "print(\"\\nStudent Information:\")\n",
    "print(s1.get_student_info())"
   ]
  },
  {
   "cell_type": "markdown",
   "metadata": {},
   "source": [
    "# Polymorphism"
   ]
  },
  {
   "cell_type": "markdown",
   "metadata": {},
   "source": [
    "Polymorphism is one of the four fundamental principles of object-oriented programming (OOP), along with encapsulation, inheritance, and abstraction. It is a concept that allows objects of different classes to be treated as objects of a common superclass. In essence, polymorphism enables objects to take on multiple forms.\n",
    "\n",
    "There are two main types of polymorphism in OOP:\n",
    "\n",
    "    Compile-time Polymorphism (Static Binding or Early Binding):\n",
    "        Also known as method overloading.\n",
    "        Occurs when you have multiple methods in the same class with the same name but different parameters (different method signatures).\n",
    "        The correct method to invoke is determined at compile time based on the method's signature and the arguments provided.\n",
    "        Examples of compile-time polymorphism include function overloading in C++ or Java.\n",
    "\n",
    "    Run-time Polymorphism (Dynamic Binding or Late Binding):\n",
    "        Also known as method overriding.\n",
    "        Occurs when a subclass provides a specific implementation of a method that is already defined in its superclass.\n",
    "        The decision of which method to call is made at runtime based on the actual object type (dynamic type) rather than the reference type.\n",
    "        Run-time polymorphism is a key feature of inheritance and allows you to achieve \"one interface, multiple implementations.\"\n",
    "        Examples of run-time polymorphism include method overriding in Java and C#."
   ]
  },
  {
   "cell_type": "code",
   "execution_count": null,
   "metadata": {},
   "outputs": [],
   "source": []
  }
 ],
 "metadata": {
  "kernelspec": {
   "display_name": "Python 3",
   "language": "python",
   "name": "python3"
  },
  "language_info": {
   "codemirror_mode": {
    "name": "ipython",
    "version": 3
   },
   "file_extension": ".py",
   "mimetype": "text/x-python",
   "name": "python",
   "nbconvert_exporter": "python",
   "pygments_lexer": "ipython3",
   "version": "3.11.5"
  },
  "orig_nbformat": 4
 },
 "nbformat": 4,
 "nbformat_minor": 2
}
