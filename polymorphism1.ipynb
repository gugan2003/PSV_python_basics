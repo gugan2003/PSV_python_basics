{
 "cells": [
  {
   "cell_type": "code",
   "execution_count": 1,
   "metadata": {},
   "outputs": [
    {
     "name": "stdout",
     "output_type": "stream",
     "text": [
      "hello world\n"
     ]
    }
   ],
   "source": [
    "print(\"hello world\")"
   ]
  },
  {
   "cell_type": "markdown",
   "metadata": {},
   "source": [
    "# What is polymorphism?\n",
    "It is a concept that allows objects of different classes to be treated as objects of a common superclass. In essence, polymorphism enables objects to take on multiple forms.\n",
    "\n",
    "There are two main types of polymorphism in OOP:\n",
    "\n",
    "    Compile-time Polymorphism (Static Binding or Early Binding):\n",
    "        Also known as method overloading.\n",
    "        Occurs when you have multiple methods in the same class with the same name but different parameters (different method signatures).\n",
    "        The correct method to invoke is determined at compile time based on the method's signature and the arguments provided.\n",
    "        Examples of compile-time polymorphism include function overloading in C++ or Java.\n",
    "\n",
    "    Run-time Polymorphism (Dynamic Binding or Late Binding):\n",
    "        Also known as method overriding.\n",
    "        Occurs when a subclass provides a specific implementation of a method that is already defined in its superclass.\n",
    "        The decision of which method to call is made at runtime based on the actual object type (dynamic type) rather than the reference type.\n",
    "        Run-time polymorphism is a key feature of inheritance and allows you to achieve \"one interface, multiple implementations.\"\n",
    "        Examples of run-time polymorphism include method overriding in Java and C#.\n"
   ]
  },
  {
   "cell_type": "markdown",
   "metadata": {},
   "source": []
  },
  {
   "cell_type": "code",
   "execution_count": 4,
   "metadata": {},
   "outputs": [],
   "source": [
    "class Animal:\n",
    "    def speak(self):\n",
    "        pass\n",
    "\n",
    "class Dog(Animal):\n",
    "    def speak(self):\n",
    "        return \"Woof!\"\n",
    "\n",
    "class Cat(Animal):\n",
    "    def speak(self):\n",
    "        return \"Meow!\""
   ]
  },
  {
   "cell_type": "code",
   "execution_count": 5,
   "metadata": {},
   "outputs": [],
   "source": [
    "# Polymorphic function\n",
    "def animal_sound(animal):\n",
    "    return animal.speak()"
   ]
  },
  {
   "cell_type": "code",
   "execution_count": 6,
   "metadata": {},
   "outputs": [],
   "source": [
    "# Create instances\n",
    "dog = Dog()\n",
    "cat = Cat()"
   ]
  },
  {
   "cell_type": "code",
   "execution_count": 7,
   "metadata": {},
   "outputs": [
    {
     "name": "stdout",
     "output_type": "stream",
     "text": [
      "Woof!\n",
      "Meow!\n"
     ]
    }
   ],
   "source": [
    "# Call the polymorphic function with different objects\n",
    "print(animal_sound(dog))  # Output: \"Woof!\"\n",
    "print(animal_sound(cat))  # Output: \"Meow!\"\n"
   ]
  },
  {
   "cell_type": "markdown",
   "metadata": {},
   "source": [
    "In this example, we have a base class Animal with a method speak(). Both Dog and Cat are subclasses of Animal and override the speak() method with their specific implementations. The animal_sound() function takes an Animal object as an argument and calls its speak() method. At runtime, the correct speak() method of the actual object type (either Dog or Cat) is invoked, demonstrating run-time polymorphism."
   ]
  },
  {
   "cell_type": "markdown",
   "metadata": {},
   "source": [
    "# Operator Overloading"
   ]
  },
  {
   "cell_type": "markdown",
   "metadata": {},
   "source": [
    "Operator overloading and method overriding are two key concepts in object-oriented programming, and they are often used in Python. Let's explore each concept with examples in Python:\n",
    "\n",
    "Operator Overloading:\n",
    "\n",
    "Operator overloading allows you to define custom behavior for built-in operators when applied to objects of your own classes. In Python, operator overloading is achieved by defining special methods in your class with double underscores (__). These methods are also called magic methods or dunder methods.\n",
    "\n",
    "Here's an example of operator overloading using the + operator:"
   ]
  },
  {
   "cell_type": "code",
   "execution_count": 8,
   "metadata": {},
   "outputs": [
    {
     "name": "stdout",
     "output_type": "stream",
     "text": [
      "4 + 9j\n"
     ]
    }
   ],
   "source": [
    "class ComplexNumber:\n",
    "    def __init__(self, real, imag):\n",
    "        self.real = real\n",
    "        self.imag = imag\n",
    "\n",
    "    def __add__(self, other):\n",
    "        # Overloading the '+' operator to add complex numbers\n",
    "        return ComplexNumber(self.real + other.real, self.imag + other.imag)\n",
    "\n",
    "    def __str__(self):\n",
    "        return f\"{self.real} + {self.imag}j\"\n",
    "\n"
   ]
  },
  {
   "cell_type": "code",
   "execution_count": 9,
   "metadata": {},
   "outputs": [],
   "source": [
    "# Create complex numbers\n",
    "num1 = ComplexNumber(3, 2)\n",
    "num2 = ComplexNumber(1, 7)"
   ]
  },
  {
   "cell_type": "code",
   "execution_count": 10,
   "metadata": {},
   "outputs": [
    {
     "name": "stdout",
     "output_type": "stream",
     "text": [
      "4 + 9j\n"
     ]
    }
   ],
   "source": [
    "# Use the '+' operator to add complex numbers\n",
    "result = num1 + num2\n",
    "print(result)  # Output: 4 + 9j\n"
   ]
  },
  {
   "cell_type": "markdown",
   "metadata": {},
   "source": [
    "In this example, we've defined the __add__ method in the ComplexNumber class to overload the + operator. When you use the + operator with instances of the ComplexNumber class, it calls the __add__ method, allowing you to define custom addition behavior."
   ]
  },
  {
   "cell_type": "markdown",
   "metadata": {},
   "source": [
    "# Method Overriding:\n",
    "\n",
    "Method overriding is the ability of a subclass to provide a specific implementation for a method that is already defined in its superclass. It allows you to change the behavior of a method inherited from the parent class."
   ]
  },
  {
   "cell_type": "code",
   "execution_count": 11,
   "metadata": {},
   "outputs": [],
   "source": [
    "class Animal:\n",
    "    def speak(self):\n",
    "        print(\"Animal speaks\")\n",
    "\n",
    "class Dog(Animal):\n",
    "    def speak(self):\n",
    "        print(\"Dog barks\")\n",
    "\n",
    "class Cat(Animal):\n",
    "    def speak(self):\n",
    "        print(\"Cat meows\")\n",
    "\n"
   ]
  },
  {
   "cell_type": "code",
   "execution_count": 12,
   "metadata": {},
   "outputs": [],
   "source": [
    "# Create instances\n",
    "animal = Animal()\n",
    "dog = Dog()\n",
    "cat = Cat()\n"
   ]
  },
  {
   "cell_type": "code",
   "execution_count": 13,
   "metadata": {},
   "outputs": [
    {
     "name": "stdout",
     "output_type": "stream",
     "text": [
      "Animal speaks\n",
      "Dog barks\n",
      "Cat meows\n"
     ]
    }
   ],
   "source": [
    "\n",
    "# Method overriding in action\n",
    "animal.speak()  # Output: \"Animal speaks\"\n",
    "dog.speak()     # Output: \"Dog barks\"\n",
    "cat.speak()     # Output: \"Cat meows\"\n"
   ]
  },
  {
   "cell_type": "markdown",
   "metadata": {},
   "source": [
    "In this example, we have a base class Animal with a speak() method. Both Dog and Cat are subclasses of Animal and provide their specific implementations of the speak() method. When you call the speak() method on instances of Dog and Cat, the overridden methods in the respective subclasses are executed, allowing you to change the behavior of the method. This is an example of run-time polymorphism and method overriding in Python."
   ]
  },
  {
   "cell_type": "markdown",
   "metadata": {},
   "source": [
    "# Operator Overloading"
   ]
  },
  {
   "cell_type": "markdown",
   "metadata": {},
   "source": [
    "Operator overloading allows you to define custom behavior for built-in operators when applied to objects of your own classes or even for certain built-in types.\n",
    "\n",
    "In the example you provided, Python is performing string repetition using the * operator. Python allows you to use the * operator with a string and an integer to repeat the string multiple times. This is a built-in behavior in Python, and you can overload it for custom classes as well."
   ]
  },
  {
   "cell_type": "code",
   "execution_count": 14,
   "metadata": {},
   "outputs": [],
   "source": [
    "class CustomString:\n",
    "    def __init__(self, value):\n",
    "        self.value = value\n",
    "\n",
    "    def __mul__(self, n):\n",
    "        return self.value * n"
   ]
  },
  {
   "cell_type": "code",
   "execution_count": 15,
   "metadata": {},
   "outputs": [],
   "source": [
    "# Create an instance of CustomString\n",
    "custom_str = CustomString(\"hello \")"
   ]
  },
  {
   "cell_type": "code",
   "execution_count": 16,
   "metadata": {},
   "outputs": [
    {
     "name": "stdout",
     "output_type": "stream",
     "text": [
      "hello hello hello \n"
     ]
    }
   ],
   "source": [
    "# Use the '*' operator to repeat the string\n",
    "result = custom_str * 3\n",
    "print(result)  # Output: \"hello hello hello \""
   ]
  },
  {
   "cell_type": "markdown",
   "metadata": {},
   "source": [
    "In this example, the __mul__ method is defined in the CustomString class to overload the * operator. When you use custom_str * 3, it calls the __mul__ method, which repeats the string multiple times.\n",
    "\n",
    "So, to summarize, the behavior of \"raju\" * 5 in Python belongs to operator overloading because it's a built-in operator being used with a built-in type (string), and Python provides default behavior for it."
   ]
  },
  {
   "cell_type": "markdown",
   "metadata": {},
   "source": [
    "To demonstrate operator overloading and method overriding using the Human class and the Student subclass, we'll create a custom operator + for concatenating the names of two individuals (either two Human objects or a Human and a Student object). Additionally, we'll override the __str__ method to provide a custom string representation for the combined names."
   ]
  },
  {
   "cell_type": "code",
   "execution_count": 18,
   "metadata": {},
   "outputs": [],
   "source": [
    "class Human:\n",
    "    def __init__(self, name='Kavin', age=35, sex='Male'):\n",
    "        self.name = name\n",
    "        self.age = age\n",
    "        self.sex = sex\n",
    "\n",
    "    def greet(self):\n",
    "        print(f\"Hello, I am {self.name}, and I am {self.age} years old. Welcome to my home.\")\n",
    "\n",
    "    def __str__(self):\n",
    "        return self.name\n",
    "\n",
    "    def __add__(self, other):\n",
    "        if isinstance(other, Human):\n",
    "            # If 'other' is also a Human object, concatenate the names\n",
    "            combined_name = f\"{self.name} {other.name}\"\n",
    "            return Human(name=combined_name)\n",
    "        elif isinstance(other, Student):\n",
    "            # If 'other' is a Student object, concatenate Student's name with Human's name\n",
    "            combined_name = f\"{self.name} {other.get_name()}\"\n",
    "            return Human(name=combined_name)\n",
    "        else:\n",
    "            raise ValueError(\"Invalid operand type\")\n",
    "\n",
    "class Student(Human):\n",
    "    def __init__(self, name, age, sex, department, college):\n",
    "        super().__init__(name, age, sex)\n",
    "        self.department = department\n",
    "        self.college = college\n",
    "\n",
    "    def intro(self):\n",
    "        print(f\"I am {self.name}, studying in {self.college}, in the {self.department} department.\")\n",
    "\n",
    "    def get_name(self):\n",
    "        return self.name\n",
    "\n"
   ]
  },
  {
   "cell_type": "code",
   "execution_count": 21,
   "metadata": {},
   "outputs": [],
   "source": [
    "# Example usage:\n",
    "human1 = Human(name=\"Alice\", age=25, sex=\"Female\")\n",
    "student1 = Student(name=\"Bob\", age=20, sex=\"Male\", department=\"Manufacturing\", college=\"PSV College\")"
   ]
  },
  {
   "cell_type": "code",
   "execution_count": 22,
   "metadata": {},
   "outputs": [
    {
     "name": "stdout",
     "output_type": "stream",
     "text": [
      "Alice Bob\n"
     ]
    }
   ],
   "source": [
    "\n",
    "# Operator overloading for concatenating names\n",
    "combined = human1 + student1\n",
    "print(combined)  # Output: \"Alice Bob\"\n"
   ]
  },
  {
   "cell_type": "markdown",
   "metadata": {},
   "source": [
    "we've done the following:\n",
    "\n",
    "    Defined a custom + operator using the __add__ method in the Human class. This method checks the type of the other object and concatenates the names accordingly.\n",
    "\n",
    "    Overridden the __str__ method in the Human class to provide a custom string representation of the object (just the name in this case).\n",
    "\n",
    "    Provided a get_name method in the Student class to retrieve the name for use in the + operator.\n",
    "\n",
    "Now, you can concatenate the names of a Human and a Student object using the + operator, and it will return a new Human object with the combined name."
   ]
  }
 ],
 "metadata": {
  "kernelspec": {
   "display_name": "Python 3",
   "language": "python",
   "name": "python3"
  },
  "language_info": {
   "codemirror_mode": {
    "name": "ipython",
    "version": 3
   },
   "file_extension": ".py",
   "mimetype": "text/x-python",
   "name": "python",
   "nbconvert_exporter": "python",
   "pygments_lexer": "ipython3",
   "version": "3.11.4"
  },
  "orig_nbformat": 4
 },
 "nbformat": 4,
 "nbformat_minor": 2
}
