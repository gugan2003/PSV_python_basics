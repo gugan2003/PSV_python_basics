{
 "cells": [
  {
   "cell_type": "code",
   "execution_count": null,
   "metadata": {},
   "outputs": [],
   "source": [
    "print(\"hello world\")"
   ]
  },
  {
   "cell_type": "markdown",
   "metadata": {},
   "source": [
    "# Variables"
   ]
  },
  {
   "cell_type": "code",
   "execution_count": null,
   "metadata": {},
   "outputs": [],
   "source": [
    "a= 5\n",
    "print(a, type(a), id(a))"
   ]
  },
  {
   "cell_type": "code",
   "execution_count": null,
   "metadata": {},
   "outputs": [],
   "source": [
    "a=2\n",
    "b=4\n",
    "c=a*b\n",
    "print(c)"
   ]
  },
  {
   "cell_type": "code",
   "execution_count": null,
   "metadata": {},
   "outputs": [],
   "source": [
    "a=25\n",
    "if(a%2==0):\n",
    "    print(\"even\")\n",
    "else:\n",
    "    print(\"odd\")\n"
   ]
  },
  {
   "cell_type": "code",
   "execution_count": null,
   "metadata": {},
   "outputs": [],
   "source": [
    "a=25\n",
    "b=a/3\n",
    "print(b)"
   ]
  },
  {
   "cell_type": "code",
   "execution_count": null,
   "metadata": {},
   "outputs": [],
   "source": [
    "a=\"gugan\"[::-1]\n",
    "print(a)"
   ]
  },
  {
   "cell_type": "code",
   "execution_count": null,
   "metadata": {},
   "outputs": [],
   "source": [
    "#control flow statement\n",
    "a=input('a value')\n",
    "b=input('b value')\n",
    "if b>a:\n",
    "    print(\"b is greater than a\") \n",
    "elif b==a: \n",
    "    print(\"b is equal to \")\n",
    "else: \n",
    "    print(\"a is greater than b\")"
   ]
  },
  {
   "cell_type": "code",
   "execution_count": null,
   "metadata": {},
   "outputs": [],
   "source": [
    "#function\n",
    "def addision(a=1,b=0):\n",
    "    return a+b\n",
    "print(addision(3,4))\n",
    "print(addision())"
   ]
  },
  {
   "cell_type": "code",
   "execution_count": null,
   "metadata": {},
   "outputs": [],
   "source": [
    "#function\n",
    "def sub(a, b = 0):\n",
    "    return a-b\n",
    "\n",
    "print(sub(a = 3,b=4))"
   ]
  },
  {
   "cell_type": "code",
   "execution_count": null,
   "metadata": {},
   "outputs": [],
   "source": [
    "import math\n",
    "from turtle import *\n",
    "def hearta(k): \n",
    "    return 15*math.sin(k)**3\n",
    "def heartb(k):\n",
    "    return 12*math.cos(k)-5*\\\n",
    "           math.cos(2*k)-2*\\\n",
    "           math.cos(3*k)-\\\n",
    "           math.cos(4*k)\n",
    "speed(0)\n",
    "bgcolor(\"black\")\n",
    "for i in range(6000):\n",
    "   goto(hearta(i)*20,heartb(i)*20)\n",
    "   for j in range(5): \n",
    "    color(\"#173487\")\n",
    "   goto(0,0)\n",
    "done()"
   ]
  },
  {
   "cell_type": "code",
   "execution_count": null,
   "metadata": {},
   "outputs": [],
   "source": [
    "#function\n",
    "def avg(marks):\n",
    "    assert len(marks) != 0\n",
    "    return sum(marks)/len(marks)\n",
    "\n",
    "mark2 = [55,88,78,90,79]\n",
    "print(\"Average of mark2:\",avg(mark2))\n",
    "\n"
   ]
  },
  {
   "cell_type": "code",
   "execution_count": null,
   "metadata": {},
   "outputs": [],
   "source": [
    "#contol flow staement\n",
    "a=input('a value')\n",
    "if int(a)>=50:\n",
    "    print(\"pass\") \n",
    "elif int(a)<50: \n",
    "    print(\"fail\")\n",
    "else: \n",
    "    print(\"none\")"
   ]
  },
  {
   "cell_type": "code",
   "execution_count": null,
   "metadata": {},
   "outputs": [],
   "source": [
    "#list\n",
    "a = [1, 2, 34.45, 5j, 'ram']\n",
    "print(a, type(a), id(d))\n"
   ]
  },
  {
   "cell_type": "code",
   "execution_count": null,
   "metadata": {},
   "outputs": [],
   "source": [
    "#tuple\n",
    "a = (1, 2, 34.45, 5j, 'ram')\n",
    "print(a, type(a))\n"
   ]
  },
  {
   "cell_type": "code",
   "execution_count": null,
   "metadata": {},
   "outputs": [],
   "source": [
    "#dictionary\n",
    "a = {1:'one', 2:'two', 3:'three'}\n",
    "print(a, type(a) )"
   ]
  },
  {
   "cell_type": "code",
   "execution_count": null,
   "metadata": {},
   "outputs": [],
   "source": [
    "#break,pass,continue\n",
    "for i in range(5):\n",
    "    print(i)\n",
    "    if (i==2):\n",
    "        break\n",
    "    print(i,i)"
   ]
  },
  {
   "cell_type": "code",
   "execution_count": null,
   "metadata": {},
   "outputs": [],
   "source": [
    "for i in range(5):\n",
    "    print(i)\n",
    "    if (i==2):\n",
    "        continue\n",
    "    print(i, i)"
   ]
  },
  {
   "cell_type": "code",
   "execution_count": null,
   "metadata": {},
   "outputs": [],
   "source": [
    "for i in range(5):\n",
    "    print(i)\n",
    "    if (i==2):\n",
    "        pass\n",
    "    print(i, i)"
   ]
  },
  {
   "cell_type": "code",
   "execution_count": null,
   "metadata": {},
   "outputs": [],
   "source": []
  },
  {
   "cell_type": "code",
   "execution_count": null,
   "metadata": {},
   "outputs": [],
   "source": [
    "#arthimic operator\n",
    "#addtion\n",
    "a=5\n",
    "b=6\n",
    "c=a+b\n",
    "print(c)"
   ]
  },
  {
   "cell_type": "code",
   "execution_count": null,
   "metadata": {},
   "outputs": [],
   "source": [
    "#sub operator\n",
    "a=5\n",
    "b=6\n",
    "c=a-b\n",
    "print(c)"
   ]
  },
  {
   "cell_type": "code",
   "execution_count": null,
   "metadata": {},
   "outputs": [],
   "source": [
    "#multi operator\n",
    "a=5\n",
    "b=6\n",
    "c=a*b\n",
    "print(c)"
   ]
  },
  {
   "cell_type": "code",
   "execution_count": null,
   "metadata": {},
   "outputs": [],
   "source": [
    "#div operator\n",
    "a=5\n",
    "b=6\n",
    "c=a/b\n",
    "print(c)"
   ]
  },
  {
   "cell_type": "code",
   "execution_count": null,
   "metadata": {},
   "outputs": [],
   "source": [
    "#power \n",
    "a=5\n",
    "b=3\n",
    "c=a**b\n",
    "print(c)"
   ]
  },
  {
   "cell_type": "code",
   "execution_count": null,
   "metadata": {},
   "outputs": [],
   "source": [
    "#module\n",
    "a=5\n",
    "b=3\n",
    "c=a%b\n",
    "print(c)"
   ]
  },
  {
   "cell_type": "code",
   "execution_count": null,
   "metadata": {},
   "outputs": [],
   "source": [
    "#logical operators\n",
    "a=5\n",
    "print(a>3 and a<3)"
   ]
  },
  {
   "cell_type": "code",
   "execution_count": null,
   "metadata": {},
   "outputs": [],
   "source": [
    "#logical operators\n",
    "a=5\n",
    "print(a>3 or a<3)"
   ]
  },
  {
   "cell_type": "code",
   "execution_count": null,
   "metadata": {},
   "outputs": [],
   "source": [
    "#identity operators\n",
    "a=[\"mango\",\"pineapple\"]\n",
    "b=[\"mango\",\"pineapple\"]\n",
    "c=a\n",
    "print(a is b)\n",
    "print(c)\n",
    "print(a is c)"
   ]
  },
  {
   "cell_type": "code",
   "execution_count": null,
   "metadata": {},
   "outputs": [],
   "source": [
    "#membership operators\n",
    "a=(\"apple\",\"mango\")\n",
    "print(\"banana\" in a)"
   ]
  },
  {
   "cell_type": "code",
   "execution_count": null,
   "metadata": {},
   "outputs": [],
   "source": [
    "#assignment operator\n",
    "#equal to\n",
    "x=5\n",
    "print(\"x:\",x)"
   ]
  },
  {
   "cell_type": "code",
   "execution_count": null,
   "metadata": {},
   "outputs": [],
   "source": [
    "x=5\n",
    "x +=5\n",
    "print(\"x:\",x)"
   ]
  },
  {
   "cell_type": "code",
   "execution_count": null,
   "metadata": {},
   "outputs": [],
   "source": [
    "#comparsion operators\n",
    "#equal toequal to\n",
    "a=5\n",
    "b=6\n",
    "print(a==b)"
   ]
  },
  {
   "cell_type": "code",
   "execution_count": null,
   "metadata": {},
   "outputs": [],
   "source": [
    "#not equal to\n",
    "a=5\n",
    "b=6\n",
    "print(a!=b)"
   ]
  },
  {
   "cell_type": "code",
   "execution_count": null,
   "metadata": {},
   "outputs": [],
   "source": [
    "#greater than equal to\n",
    "a=5\n",
    "b=6\n",
    "print(a!=b)"
   ]
  },
  {
   "cell_type": "code",
   "execution_count": null,
   "metadata": {},
   "outputs": [],
   "source": [
    "#greater than equal to\n",
    "a=5\n",
    "b=6\n",
    "print(a!=b)"
   ]
  },
  {
   "cell_type": "code",
   "execution_count": null,
   "metadata": {},
   "outputs": [],
   "source": [
    "def divide(x,y):\n",
    "    try:\n",
    "        result= x // y\n",
    "        print(\"Yeah ! Your answer is :\", result)\n",
    "    except ZeroDivisionError:\n",
    "            print(\"Sorry ! You are dividing by zero \")\n",
    "divide(6,3)"
   ]
  },
  {
   "cell_type": "code",
   "execution_count": null,
   "metadata": {},
   "outputs": [],
   "source": [
    "#bitwise operator\n",
    "a=5\n",
    "b=2\n",
    "c=(a&b)\n",
    "print(c)"
   ]
  },
  {
   "cell_type": "code",
   "execution_count": null,
   "metadata": {},
   "outputs": [],
   "source": [
    "#bitwise operator\n",
    "a=7\n",
    "b=5\n",
    "c=(a|b)\n",
    "print(c)"
   ]
  },
  {
   "cell_type": "code",
   "execution_count": null,
   "metadata": {},
   "outputs": [],
   "source": [
    "import math"
   ]
  },
  {
   "cell_type": "code",
   "execution_count": null,
   "metadata": {},
   "outputs": [],
   "source": [
    "a=int(input(\"a value\"))\n",
    "b=math.sqrt(a)\n",
    "print(b)"
   ]
  },
  {
   "cell_type": "code",
   "execution_count": null,
   "metadata": {},
   "outputs": [],
   "source": [
    "question1 = {\n",
    "    \"question\": \"What is the capital of France?\",\n",
    "    \"choices\": [\"A. Paris\", \"B. London\", \"C. Berlin\"],\n",
    "    \"answer\": \"A\"\n",
    "}\n",
    "\n",
    "# Print the question and answer choices\n",
    "print(question1[\"question\"])\n",
    "for choice in question1[\"choices\"]:\n",
    "    print(choice)\n",
    "\n",
    "# Ask the user to select an answer\n",
    "user_answer = input(\"Enter your answer (A, B, or C): \")\n",
    "\n",
    "# Check if the answer is correct\n",
    "if user_answer == question1[\"answer\"]:\n",
    "    print(\"Correct.\")\n",
    "else:\n",
    "    print(\"Sorry, that's incorrect.\")"
   ]
  },
  {
   "cell_type": "code",
   "execution_count": null,
   "metadata": {},
   "outputs": [],
   "source": [
    "#swapping operations\n",
    "x=144\n",
    "y=455\n",
    "temp=x\n",
    "x=y\n",
    "y=temp\n",
    "print(\"the value of x:\",y)\n",
    "print(\"the value of y:\",x)"
   ]
  },
  {
   "cell_type": "code",
   "execution_count": null,
   "metadata": {},
   "outputs": [],
   "source": [
    "#function with argument\n",
    "def my_function(fname):\n",
    "  print(fname + \" mech\")\n",
    "my_function(\"rohit\")\n",
    "my_function(\"arbaaz\")\n",
    "my_function(\"akash\")"
   ]
  },
  {
   "cell_type": "code",
   "execution_count": null,
   "metadata": {},
   "outputs": [],
   "source": [
    "#function\n",
    "def addision(a,b):\n",
    "    return a+b\n",
    "addision(3,4)"
   ]
  },
  {
   "cell_type": "code",
   "execution_count": null,
   "metadata": {},
   "outputs": [],
   "source": [
    "#Keyword Arguments\n",
    "def my_function(player3, player2, player1):\n",
    "  print(\"The best captain is \" + player2)\n",
    "my_function(player1 = \"virat\", player2 = \"dhoni\", player3 = \"raina\")"
   ]
  },
  {
   "cell_type": "code",
   "execution_count": null,
   "metadata": {},
   "outputs": [],
   "source": [
    "#Arbitrary Arguments *args\n",
    "def my_function(*player):\n",
    "  print(\"The mr.ipl is \" + player[2])\n",
    "my_function(\"virat\", \"dhoni\", \"raina\")"
   ]
  },
  {
   "cell_type": "code",
   "execution_count": null,
   "metadata": {},
   "outputs": [],
   "source": [
    "x = lambda a, b : a * b\n",
    "print(x(25, 10)) "
   ]
  },
  {
   "cell_type": "code",
   "execution_count": null,
   "metadata": {},
   "outputs": [],
   "source": [
    "#The __init__() Function, constructor\n",
    "\n",
    "class Human():\n",
    "    def __init__(self, name, age, sex):\n",
    "        self.name = name\n",
    "        self.age = age\n",
    "        self.sex = sex\n",
    "    def __str__(self):\n",
    "        return self.name"
   ]
  },
  {
   "cell_type": "code",
   "execution_count": null,
   "metadata": {},
   "outputs": [],
   "source": [
    "h1 = Human(name='gugan', age=20, sex='Male') # object initialisation\n",
    "print(h1, type(h1))\n",
    "print(h1.name, type(h1.name))\n",
    "print(h1.age, type(h1.age))\n",
    "print(h1.sex, type(h1.sex))"
   ]
  },
  {
   "cell_type": "code",
   "execution_count": null,
   "metadata": {},
   "outputs": [],
   "source": [
    "class Human:\n",
    "    def __init__(self, name='gugan', age=20, sex='Male'):\n",
    "        self.__name = name  # Private attribute\n",
    "        self.__age = age    # Private attribute\n",
    "        self.__sex = sex    # Private attribute\n",
    "\n",
    "    # Getter methods\n",
    "    def get_name(self):\n",
    "        return self.__name\n",
    "\n",
    "    def get_age(self):\n",
    "        return self.__age\n",
    "\n",
    "    def get_sex(self):\n",
    "        return self.__sex\n",
    "\n",
    "    def greet(self):\n",
    "        print(f\"Hello, I am {self.__name}, and I am {self.__age} years old. Welcome to my home.\")\n",
    "\n",
    "class Student(Human):\n",
    "    def __init__(self, name, age, sex, department, college):\n",
    "        super().__init__(name, age, sex)\n",
    "        self.__department = department  # Private attribute\n",
    "        self.__college = college        # Private attribute\n",
    "\n",
    "    # Getter methods specific to Student\n",
    "    def get_department(self):\n",
    "        return self.__department\n",
    "\n",
    "    def get_college(self):\n",
    "        return self.__college\n",
    "\n",
    "    def intro(self):\n",
    "        print(f\"I am {self.get_name()}, studying in {self.__college}, in the {self.__department} department.\")\n",
    "    \n",
    "    def get_student_info(self):\n",
    "        return f\"Name: {self.get_name()}\\nAge: {self.get_age()}\\nSex: {self.get_sex()}\\nDepartment: {self.__department}\\nCollege: {self.__college}\""
   ]
  },
  {
   "cell_type": "code",
   "execution_count": null,
   "metadata": {},
   "outputs": [],
   "source": [
    "s1 = Student(name=\"gugan\", age=20, sex=\"male\", department=\"Mechanical engineering\", college=\"PSV University\")"
   ]
  },
  {
   "cell_type": "code",
   "execution_count": null,
   "metadata": {},
   "outputs": [],
   "source": [
    "print(\"Name:\", s1.get_name())\n",
    "print(\"Age:\", s1.get_age())\n",
    "print(\"Sex:\", s1.get_sex())\n",
    "print(\"Department:\", s1.get_department())\n",
    "print(\"College:\", s1.get_college())"
   ]
  },
  {
   "cell_type": "code",
   "execution_count": null,
   "metadata": {},
   "outputs": [],
   "source": [
    "class College():\n",
    "    name=\"gugan\"\n",
    "    dept=\"mech\"\n",
    "    year=\"final\"\n",
    "    native=\"tirupattur\"\n",
    "    language=\"tamil\""
   ]
  },
  {
   "cell_type": "code",
   "execution_count": null,
   "metadata": {},
   "outputs": [],
   "source": [
    "h1=College()\n",
    "print(h1.name)\n",
    "print(h1.year)\n",
    "print(h1.dept)\n",
    "print(h1.native)\n",
    "print(h1.language)"
   ]
  },
  {
   "cell_type": "code",
   "execution_count": null,
   "metadata": {},
   "outputs": [],
   "source": [
    "College"
   ]
  },
  {
   "cell_type": "code",
   "execution_count": null,
   "metadata": {},
   "outputs": [],
   "source": [
    "\n",
    "class Student():\n",
    "    def __init__(self, name, age, sex, department, college):\n",
    "        self.name=name\n",
    "        self.age=age\n",
    "        self.sex=sex\n",
    "        self.department = department\n",
    "        self.college = college\n"
   ]
  },
  {
   "cell_type": "code",
   "execution_count": null,
   "metadata": {},
   "outputs": [],
   "source": [
    "a=Student(\"gugan\",20,\"male\",\"mechanical\",\"psvcet\")"
   ]
  },
  {
   "cell_type": "code",
   "execution_count": null,
   "metadata": {},
   "outputs": [],
   "source": [
    "a.name"
   ]
  },
  {
   "cell_type": "code",
   "execution_count": null,
   "metadata": {},
   "outputs": [],
   "source": [
    "print(\"Twinkle, twinkle, little star, \\n\\tHow I wonder what you are! \\n\\t\\tUp above the world so high, \\n\\t\\tLike a diamond in the sky. \\nTwinkle, twinkle, little star, \\n\\tHow I wonder what you are!\")\n"
   ]
  },
  {
   "cell_type": "code",
   "execution_count": null,
   "metadata": {},
   "outputs": [],
   "source": [
    "#multiline string\n",
    "print(\"\"\"my name is a arbaaz husaain,\n",
    "he is a mechanical student\"\"\")"
   ]
  },
  {
   "cell_type": "code",
   "execution_count": null,
   "metadata": {},
   "outputs": [],
   "source": [
    "import sys\n",
    "print(\"python version\")\n",
    "print (sys.version)\n",
    "print(\"Version info.\")\n",
    "print (sys.version_info)\n"
   ]
  },
  {
   "cell_type": "code",
   "execution_count": null,
   "metadata": {},
   "outputs": [],
   "source": [
    "from math import pi\n",
    "r = float(input (\"Input the radius of the circle : \"))\n",
    "print (\"The area of the circle with radius \" + str(r) + \" is: \" + str(pi * r**2))\n"
   ]
  },
  {
   "cell_type": "code",
   "execution_count": null,
   "metadata": {},
   "outputs": [],
   "source": [
    "a=\"hello python\"\n",
    "print(a[-5])"
   ]
  },
  {
   "cell_type": "code",
   "execution_count": null,
   "metadata": {},
   "outputs": [],
   "source": [
    "color_list = [\"Red\",\"Green\",\"White\" ,\"Black\"]\n",
    "print(color_list[0],color_list[3])"
   ]
  },
  {
   "cell_type": "code",
   "execution_count": null,
   "metadata": {},
   "outputs": [],
   "source": [
    "exam_st_date = (11, 12, 2014)\n",
    "print(exam_st_date[0],\"/\",exam_st_date[1],\"/\",exam_st_date[2])"
   ]
  },
  {
   "cell_type": "code",
   "execution_count": 28,
   "metadata": {},
   "outputs": [],
   "source": [
    "class Student:\n",
    "    def speak(self):\n",
    "        pass\n",
    "\n",
    "class Arbaaz(Student):\n",
    "    def speak(self):\n",
    "        return \"hindi!\"\n",
    "\n",
    "class Rohit(Student):\n",
    "    def speak(self):\n",
    "        return \"tamil!\""
   ]
  },
  {
   "cell_type": "code",
   "execution_count": 29,
   "metadata": {},
   "outputs": [],
   "source": [
    "def student_language(Student):\n",
    "    return Student.speak()"
   ]
  },
  {
   "cell_type": "code",
   "execution_count": 30,
   "metadata": {},
   "outputs": [],
   "source": [
    "st1= Arbaaz()\n",
    "st2= Rohit()"
   ]
  },
  {
   "cell_type": "code",
   "execution_count": 31,
   "metadata": {},
   "outputs": [
    {
     "name": "stdout",
     "output_type": "stream",
     "text": [
      "hindi!\n",
      "tamil!\n"
     ]
    }
   ],
   "source": [
    "print(student_language(st1))\n",
    "print(student_language(st2))"
   ]
  }
 ],
 "metadata": {
  "kernelspec": {
   "display_name": "Python 3",
   "language": "python",
   "name": "python3"
  },
  "language_info": {
   "codemirror_mode": {
    "name": "ipython",
    "version": 3
   },
   "file_extension": ".py",
   "mimetype": "text/x-python",
   "name": "python",
   "nbconvert_exporter": "python",
   "pygments_lexer": "ipython3",
   "version": "3.11.5"
  },
  "orig_nbformat": 4
 },
 "nbformat": 4,
 "nbformat_minor": 2
}
